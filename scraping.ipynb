{
 "cells": [
  {
   "cell_type": "code",
   "execution_count": 5,
   "metadata": {},
   "outputs": [],
   "source": [
    "from selenium import webdriver\n",
    "from selenium.webdriver.common.by import By\n",
    "from selenium.webdriver.support import expected_conditions as EC\n",
    "from selenium.webdriver.support.wait import WebDriverWait\n",
    "from selenium.webdriver.support.ui import Select\n",
    "from time import sleep\n",
    "from urllib.parse import quote\n",
    "from queue import Queue\n",
    "import pandas as pd\n",
    "import os\n",
    "from selenium.webdriver.common.action_chains import ActionChains\n",
    "import requests"
   ]
  },
  {
   "cell_type": "code",
   "execution_count": 103,
   "metadata": {},
   "outputs": [],
   "source": [
    "# Função para acessar o portal com os parametros desejados\n",
    "def consultar(navegador):\n",
    "    url='https://transparencia.mprj.mp.br/web/novo-portal-transparencia/processos-distribuidos-novo'\n",
    "    navegador.get(url)"
   ]
  },
  {
   "cell_type": "code",
   "execution_count": 180,
   "metadata": {},
   "outputs": [],
   "source": [
    "# Iniciando drive do Chorme\n",
    "\n",
    "# op = webdriver.ChromeOptions()\n",
    "# op.add_argument('headless')\n",
    "# driver = webdriver.Chrome(options=op)\n",
    "driver = webdriver.Chrome()\n",
    "\n",
    "# inicia a pagiana e espera 5 segundos para os dados serem carregados\n",
    "consultar(driver)\n",
    "sleep(1)"
   ]
  },
  {
   "cell_type": "code",
   "execution_count": 166,
   "metadata": {},
   "outputs": [],
   "source": [
    "# Identificadores do HTML\n",
    "\n",
    "comarca_id = 'comarcaId'\n",
    "orgao_id = 'orgaoId'\n",
    "tipo_documento_id = 'documentoId'\n",
    "membro_id = 'membroId'\n",
    "\n",
    "btn_buscar_id = 'export'\n",
    "\n",
    "linha_tabela_class = 'tr-modal' #'tabela-cargos-membros'\n",
    "pagination_css = 'li.page-item.active'\n",
    "\n",
    "def get_element(id):\n",
    "    element = driver.find_element(By.ID, id)\n",
    "    return element\n"
   ]
  },
  {
   "cell_type": "code",
   "execution_count": 167,
   "metadata": {},
   "outputs": [],
   "source": [
    "from datetime import datetime\n",
    "\n",
    "def save_to_csv(name):\n",
    "    file_name = f'{name}_{datetime.now().strftime(\"%d-%m-%Y_%H:%M:%S\")}'\n",
    "    scraping_values = {'Comarca': col_comarca, 'Orgão de execução': col_orgao, 'Tipo de documento': col_tipo, 'Membro': col_membro, 'Número': col_numero, 'Distribuído em': col_distribuido_em, 'Submetido em': col_submetido_em, 'Tipo': col_tipo, 'Unidade': col_unidade}\n",
    "    df = pd.DataFrame.from_dict(scraping_values) \n",
    "\n",
    "    df.to_csv(f'{file_name}.csv')"
   ]
  },
  {
   "cell_type": "code",
   "execution_count": 172,
   "metadata": {},
   "outputs": [
    {
     "data": {
      "text/plain": [
       "['',\n",
       " 'ANGRA DOS REIS',\n",
       " 'ARARUAMA',\n",
       " 'ARMAÇÃO DOS BÚZIOS',\n",
       " 'ARRAIAL DO CABO',\n",
       " 'BARRA DO PIRAÍ',\n",
       " 'BARRA MANSA',\n",
       " 'BELFORD ROXO',\n",
       " 'BOM JARDIM',\n",
       " 'BOM JESUS DO ITABAPOANA',\n",
       " 'CABO FRIO',\n",
       " 'CACHOEIRAS DE MACACU',\n",
       " 'CAMBUCI']"
      ]
     },
     "execution_count": 172,
     "metadata": {},
     "output_type": "execute_result"
    }
   ],
   "source": [
    "comarcas_visitados = []\n",
    "\n",
    "# manualmente parou no CAMPOS DOS GOYTACAZES\n",
    "\n",
    "for i in range(0, 13):\n",
    "    comarcas_visitados.append(comarcas.find_elements(By.TAG_NAME, \"option\")[i].get_attribute('innerHTML'))\n",
    "\n",
    "comarcas_visitados"
   ]
  },
  {
   "cell_type": "code",
   "execution_count": 181,
   "metadata": {},
   "outputs": [
    {
     "ename": "StaleElementReferenceException",
     "evalue": "Message: stale element reference: stale element not found in the current frame\n  (Session info: chrome=126.0.6478.127); For documentation on this error, please visit: https://www.selenium.dev/documentation/webdriver/troubleshooting/errors#stale-element-reference-exception\nStacktrace:\n\tGetHandleVerifier [0x00007FF7D93BEEA2+31554]\n\t(No symbol) [0x00007FF7D9337ED9]\n\t(No symbol) [0x00007FF7D91F872A]\n\t(No symbol) [0x00007FF7D91FE55E]\n\t(No symbol) [0x00007FF7D9200EB1]\n\t(No symbol) [0x00007FF7D9200F50]\n\t(No symbol) [0x00007FF7D92421DB]\n\t(No symbol) [0x00007FF7D926D02A]\n\t(No symbol) [0x00007FF7D923BA76]\n\t(No symbol) [0x00007FF7D926D240]\n\t(No symbol) [0x00007FF7D928C977]\n\t(No symbol) [0x00007FF7D926CDD3]\n\t(No symbol) [0x00007FF7D923A33B]\n\t(No symbol) [0x00007FF7D923AED1]\n\tGetHandleVerifier [0x00007FF7D96C8B1D+3217341]\n\tGetHandleVerifier [0x00007FF7D9715AE3+3532675]\n\tGetHandleVerifier [0x00007FF7D970B0E0+3489152]\n\tGetHandleVerifier [0x00007FF7D946E776+750614]\n\t(No symbol) [0x00007FF7D934375F]\n\t(No symbol) [0x00007FF7D933EB14]\n\t(No symbol) [0x00007FF7D933ECA2]\n\t(No symbol) [0x00007FF7D932E16F]\n\tBaseThreadInitThunk [0x00007FFD2E95257D+29]\n\tRtlUserThreadStart [0x00007FFD3002AF28+40]\n",
     "output_type": "error",
     "traceback": [
      "\u001b[1;31m---------------------------------------------------------------------------\u001b[0m",
      "\u001b[1;31mStaleElementReferenceException\u001b[0m            Traceback (most recent call last)",
      "Cell \u001b[1;32mIn[181], line 97\u001b[0m\n\u001b[0;32m     91\u001b[0m \u001b[38;5;66;03m# print(list(colunas)[0].text)\u001b[39;00m\n\u001b[0;32m     92\u001b[0m \u001b[38;5;66;03m# print(colunas[1].get_attribute('text'))\u001b[39;00m\n\u001b[0;32m     93\u001b[0m \n\u001b[0;32m     94\u001b[0m \u001b[38;5;66;03m# print(len(linhas_tabela))\u001b[39;00m\n\u001b[0;32m     96\u001b[0m col_numero\u001b[38;5;241m.\u001b[39mappend(colunas[\u001b[38;5;241m0\u001b[39m]\u001b[38;5;241m.\u001b[39mtext)\n\u001b[1;32m---> 97\u001b[0m col_distribuido_em\u001b[38;5;241m.\u001b[39mappend(\u001b[43mcolunas\u001b[49m\u001b[43m[\u001b[49m\u001b[38;5;241;43m1\u001b[39;49m\u001b[43m]\u001b[49m\u001b[38;5;241;43m.\u001b[39;49m\u001b[43mtext\u001b[49m)\n\u001b[0;32m     98\u001b[0m col_submetido_em\u001b[38;5;241m.\u001b[39mappend(colunas[\u001b[38;5;241m2\u001b[39m]\u001b[38;5;241m.\u001b[39mtext)\n\u001b[0;32m     99\u001b[0m col_tipo\u001b[38;5;241m.\u001b[39mappend(colunas[\u001b[38;5;241m3\u001b[39m]\u001b[38;5;241m.\u001b[39mtext)\n",
      "File \u001b[1;32mc:\\Users\\Gaby\\Documents\\web_scraping\\.venv\\Lib\\site-packages\\selenium\\webdriver\\remote\\webelement.py:90\u001b[0m, in \u001b[0;36mWebElement.text\u001b[1;34m(self)\u001b[0m\n\u001b[0;32m     87\u001b[0m \u001b[38;5;129m@property\u001b[39m\n\u001b[0;32m     88\u001b[0m \u001b[38;5;28;01mdef\u001b[39;00m \u001b[38;5;21mtext\u001b[39m(\u001b[38;5;28mself\u001b[39m) \u001b[38;5;241m-\u001b[39m\u001b[38;5;241m>\u001b[39m \u001b[38;5;28mstr\u001b[39m:\n\u001b[0;32m     89\u001b[0m \u001b[38;5;250m    \u001b[39m\u001b[38;5;124;03m\"\"\"The text of the element.\"\"\"\u001b[39;00m\n\u001b[1;32m---> 90\u001b[0m     \u001b[38;5;28;01mreturn\u001b[39;00m \u001b[38;5;28;43mself\u001b[39;49m\u001b[38;5;241;43m.\u001b[39;49m\u001b[43m_execute\u001b[49m\u001b[43m(\u001b[49m\u001b[43mCommand\u001b[49m\u001b[38;5;241;43m.\u001b[39;49m\u001b[43mGET_ELEMENT_TEXT\u001b[49m\u001b[43m)\u001b[49m[\u001b[38;5;124m\"\u001b[39m\u001b[38;5;124mvalue\u001b[39m\u001b[38;5;124m\"\u001b[39m]\n",
      "File \u001b[1;32mc:\\Users\\Gaby\\Documents\\web_scraping\\.venv\\Lib\\site-packages\\selenium\\webdriver\\remote\\webelement.py:395\u001b[0m, in \u001b[0;36mWebElement._execute\u001b[1;34m(self, command, params)\u001b[0m\n\u001b[0;32m    393\u001b[0m     params \u001b[38;5;241m=\u001b[39m {}\n\u001b[0;32m    394\u001b[0m params[\u001b[38;5;124m\"\u001b[39m\u001b[38;5;124mid\u001b[39m\u001b[38;5;124m\"\u001b[39m] \u001b[38;5;241m=\u001b[39m \u001b[38;5;28mself\u001b[39m\u001b[38;5;241m.\u001b[39m_id\n\u001b[1;32m--> 395\u001b[0m \u001b[38;5;28;01mreturn\u001b[39;00m \u001b[38;5;28;43mself\u001b[39;49m\u001b[38;5;241;43m.\u001b[39;49m\u001b[43m_parent\u001b[49m\u001b[38;5;241;43m.\u001b[39;49m\u001b[43mexecute\u001b[49m\u001b[43m(\u001b[49m\u001b[43mcommand\u001b[49m\u001b[43m,\u001b[49m\u001b[43m \u001b[49m\u001b[43mparams\u001b[49m\u001b[43m)\u001b[49m\n",
      "File \u001b[1;32mc:\\Users\\Gaby\\Documents\\web_scraping\\.venv\\Lib\\site-packages\\selenium\\webdriver\\remote\\webdriver.py:354\u001b[0m, in \u001b[0;36mWebDriver.execute\u001b[1;34m(self, driver_command, params)\u001b[0m\n\u001b[0;32m    352\u001b[0m response \u001b[38;5;241m=\u001b[39m \u001b[38;5;28mself\u001b[39m\u001b[38;5;241m.\u001b[39mcommand_executor\u001b[38;5;241m.\u001b[39mexecute(driver_command, params)\n\u001b[0;32m    353\u001b[0m \u001b[38;5;28;01mif\u001b[39;00m response:\n\u001b[1;32m--> 354\u001b[0m     \u001b[38;5;28;43mself\u001b[39;49m\u001b[38;5;241;43m.\u001b[39;49m\u001b[43merror_handler\u001b[49m\u001b[38;5;241;43m.\u001b[39;49m\u001b[43mcheck_response\u001b[49m\u001b[43m(\u001b[49m\u001b[43mresponse\u001b[49m\u001b[43m)\u001b[49m\n\u001b[0;32m    355\u001b[0m     response[\u001b[38;5;124m\"\u001b[39m\u001b[38;5;124mvalue\u001b[39m\u001b[38;5;124m\"\u001b[39m] \u001b[38;5;241m=\u001b[39m \u001b[38;5;28mself\u001b[39m\u001b[38;5;241m.\u001b[39m_unwrap_value(response\u001b[38;5;241m.\u001b[39mget(\u001b[38;5;124m\"\u001b[39m\u001b[38;5;124mvalue\u001b[39m\u001b[38;5;124m\"\u001b[39m, \u001b[38;5;28;01mNone\u001b[39;00m))\n\u001b[0;32m    356\u001b[0m     \u001b[38;5;28;01mreturn\u001b[39;00m response\n",
      "File \u001b[1;32mc:\\Users\\Gaby\\Documents\\web_scraping\\.venv\\Lib\\site-packages\\selenium\\webdriver\\remote\\errorhandler.py:229\u001b[0m, in \u001b[0;36mErrorHandler.check_response\u001b[1;34m(self, response)\u001b[0m\n\u001b[0;32m    227\u001b[0m         alert_text \u001b[38;5;241m=\u001b[39m value[\u001b[38;5;124m\"\u001b[39m\u001b[38;5;124malert\u001b[39m\u001b[38;5;124m\"\u001b[39m]\u001b[38;5;241m.\u001b[39mget(\u001b[38;5;124m\"\u001b[39m\u001b[38;5;124mtext\u001b[39m\u001b[38;5;124m\"\u001b[39m)\n\u001b[0;32m    228\u001b[0m     \u001b[38;5;28;01mraise\u001b[39;00m exception_class(message, screen, stacktrace, alert_text)  \u001b[38;5;66;03m# type: ignore[call-arg]  # mypy is not smart enough here\u001b[39;00m\n\u001b[1;32m--> 229\u001b[0m \u001b[38;5;28;01mraise\u001b[39;00m exception_class(message, screen, stacktrace)\n",
      "\u001b[1;31mStaleElementReferenceException\u001b[0m: Message: stale element reference: stale element not found in the current frame\n  (Session info: chrome=126.0.6478.127); For documentation on this error, please visit: https://www.selenium.dev/documentation/webdriver/troubleshooting/errors#stale-element-reference-exception\nStacktrace:\n\tGetHandleVerifier [0x00007FF7D93BEEA2+31554]\n\t(No symbol) [0x00007FF7D9337ED9]\n\t(No symbol) [0x00007FF7D91F872A]\n\t(No symbol) [0x00007FF7D91FE55E]\n\t(No symbol) [0x00007FF7D9200EB1]\n\t(No symbol) [0x00007FF7D9200F50]\n\t(No symbol) [0x00007FF7D92421DB]\n\t(No symbol) [0x00007FF7D926D02A]\n\t(No symbol) [0x00007FF7D923BA76]\n\t(No symbol) [0x00007FF7D926D240]\n\t(No symbol) [0x00007FF7D928C977]\n\t(No symbol) [0x00007FF7D926CDD3]\n\t(No symbol) [0x00007FF7D923A33B]\n\t(No symbol) [0x00007FF7D923AED1]\n\tGetHandleVerifier [0x00007FF7D96C8B1D+3217341]\n\tGetHandleVerifier [0x00007FF7D9715AE3+3532675]\n\tGetHandleVerifier [0x00007FF7D970B0E0+3489152]\n\tGetHandleVerifier [0x00007FF7D946E776+750614]\n\t(No symbol) [0x00007FF7D934375F]\n\t(No symbol) [0x00007FF7D933EB14]\n\t(No symbol) [0x00007FF7D933ECA2]\n\t(No symbol) [0x00007FF7D932E16F]\n\tBaseThreadInitThunk [0x00007FFD2E95257D+29]\n\tRtlUserThreadStart [0x00007FFD3002AF28+40]\n"
     ]
    }
   ],
   "source": [
    "comarcas = get_element(comarca_id)\n",
    "\n",
    "for comarca in comarcas.find_elements(By.TAG_NAME, \"option\"):\n",
    "    if comarca.get_attribute('innerHTML') in comarcas_visitados:\n",
    "        continue\n",
    "\n",
    "    col_comarca = []\n",
    "    col_orgao = []\n",
    "    col_tipo_doc = []\n",
    "    col_membro = []\n",
    "    col_numero = []\n",
    "    col_distribuido_em = []\n",
    "    col_submetido_em = []\n",
    "    col_tipo = []\n",
    "    col_unidade = []   \n",
    "     \n",
    "    value = comarca.get_attribute('value')\n",
    "\n",
    "    if value:\n",
    "        Select(comarcas).select_by_value(value)\n",
    "    else:\n",
    "        continue\n",
    "\n",
    "    name_comarca = comarca.text\n",
    "    sleep(1)\n",
    "\n",
    "    orgaos = get_element(orgao_id)\n",
    "    for orgao in orgaos.find_elements(By.TAG_NAME, \"option\"):\n",
    "        value = orgao.get_attribute('value')\n",
    "        if value:\n",
    "            Select(orgaos).select_by_value(value)  \n",
    "        else:\n",
    "            continue   \n",
    "\n",
    "        name_orgao = orgao.text\n",
    "        sleep(1)\n",
    "\n",
    "        tipos = get_element(tipo_documento_id)\n",
    "        for tipo in tipos.find_elements(By.TAG_NAME, \"option\"):\n",
    "            value = tipo.get_attribute('value')\n",
    "            if value:\n",
    "                Select(tipos).select_by_value(value)  \n",
    "            else:\n",
    "                continue    \n",
    "\n",
    "            name_tipo_doc = tipo.text\n",
    "            sleep(1)\n",
    "\n",
    "            membros = get_element(membro_id)\n",
    "            for membro in membros.find_elements(By.TAG_NAME, \"option\"):\n",
    "                value = membro.get_attribute('value')\n",
    "                if value:\n",
    "                    Select(membros).select_by_value(value)     \n",
    "                    # print('membro encontrado')\n",
    "                else:\n",
    "                    # print('membro nao encontrado')\n",
    "                    continue\n",
    "\n",
    "                name_membro = membro.text\n",
    "                                    \n",
    "                # Busca\n",
    "                buscar = get_element(btn_buscar_id).click() \n",
    "   \n",
    "                sleep(1)          \n",
    "\n",
    "                pages_visited = []\n",
    "\n",
    "                actual_page = driver.find_element(By.CSS_SELECTOR, pagination_css)   \n",
    "                # pages_visited.append(actual_page.text)\n",
    "\n",
    "                # next_pages = actual_page.find_elements(By.XPATH, './/following-sibling::li')\n",
    "\n",
    "                # for i in range(0, len(next_pages)):\n",
    "                while True:\n",
    "                    # print(next_pages[i].get_attribute('innerHTML'))\n",
    "\n",
    "                    # if next_pages[i].text in pages_visited:\n",
    "                    #     continue\n",
    "                    linhas_tabela = driver.find_elements(By.CLASS_NAME, linha_tabela_class)  \n",
    "\n",
    "                    for linha in linhas_tabela:     \n",
    "                        # print(linha.get_attribute('innerHTML'))\n",
    "                        \n",
    "                        try:\n",
    "                            colunas = linha.find_elements(By.TAG_NAME, 'td')\n",
    "                        except Exception:\n",
    "                            break\n",
    "\n",
    "                        colunas = list(colunas)\n",
    "\n",
    "                        # print(list(colunas)[0].text)\n",
    "                        # print(colunas[1].get_attribute('text'))\n",
    "\n",
    "                        # print(len(linhas_tabela))\n",
    "\n",
    "                        col_numero.append(colunas[0].text)\n",
    "                        col_distribuido_em.append(colunas[1].text)\n",
    "                        col_submetido_em.append(colunas[2].text)\n",
    "                        col_tipo.append(colunas[3].text)\n",
    "                        col_unidade.append(colunas[4].text)   \n",
    "                        col_comarca.append(name_comarca)\n",
    "                        col_orgao.append(name_orgao)\n",
    "                        col_tipo_doc.append(name_tipo_doc)\n",
    "                        col_membro.append(name_membro)\n",
    "\n",
    "                # pages_visited.append(next_pages[i].text)\n",
    "                    # next_pages[i].click()         \n",
    "                    next_page = actual_page.find_elements(By.XPATH, './/following-sibling::li')[-1]\n",
    "\n",
    "                    try:\n",
    "                        next_page.find_element(By.TAG_NAME, 'a') \n",
    "                    except Exception:\n",
    "                        # Não tem próxima pagina\n",
    "                        break\n",
    "\n",
    "                    next_page.click()   \n",
    "                        \n",
    "\n",
    "                driver.find_element(By.CSS_SELECTOR, 'button.close.btn.btn-unstyled').click() #fechar modal\n",
    "\n",
    "    save_to_csv(name_comarca)\n",
    "    comarcas_visitados.append(comarca.get_attribute('innerHTML'))"
   ]
  },
  {
   "cell_type": "code",
   "execution_count": 206,
   "metadata": {},
   "outputs": [
    {
     "data": {
      "text/plain": [
       "20"
      ]
     },
     "execution_count": 206,
     "metadata": {},
     "output_type": "execute_result"
    }
   ],
   "source": [
    "len(list(linhas_tabela))"
   ]
  },
  {
   "cell_type": "code",
   "execution_count": 201,
   "metadata": {},
   "outputs": [
    {
     "ename": "StaleElementReferenceException",
     "evalue": "Message: stale element reference: stale element not found in the current frame\n  (Session info: chrome=126.0.6478.127); For documentation on this error, please visit: https://www.selenium.dev/documentation/webdriver/troubleshooting/errors#stale-element-reference-exception\nStacktrace:\n\tGetHandleVerifier [0x00007FF7D93BEEA2+31554]\n\t(No symbol) [0x00007FF7D9337ED9]\n\t(No symbol) [0x00007FF7D91F872A]\n\t(No symbol) [0x00007FF7D91FE55E]\n\t(No symbol) [0x00007FF7D92011D8]\n\t(No symbol) [0x00007FF7D928D69B]\n\t(No symbol) [0x00007FF7D926D02A]\n\t(No symbol) [0x00007FF7D928C977]\n\t(No symbol) [0x00007FF7D926CDD3]\n\t(No symbol) [0x00007FF7D923A33B]\n\t(No symbol) [0x00007FF7D923AED1]\n\tGetHandleVerifier [0x00007FF7D96C8B1D+3217341]\n\tGetHandleVerifier [0x00007FF7D9715AE3+3532675]\n\tGetHandleVerifier [0x00007FF7D970B0E0+3489152]\n\tGetHandleVerifier [0x00007FF7D946E776+750614]\n\t(No symbol) [0x00007FF7D934375F]\n\t(No symbol) [0x00007FF7D933EB14]\n\t(No symbol) [0x00007FF7D933ECA2]\n\t(No symbol) [0x00007FF7D932E16F]\n\tBaseThreadInitThunk [0x00007FFD2E95257D+29]\n\tRtlUserThreadStart [0x00007FFD3002AF28+40]\n",
     "output_type": "error",
     "traceback": [
      "\u001b[1;31m---------------------------------------------------------------------------\u001b[0m",
      "\u001b[1;31mStaleElementReferenceException\u001b[0m            Traceback (most recent call last)",
      "Cell \u001b[1;32mIn[201], line 1\u001b[0m\n\u001b[1;32m----> 1\u001b[0m \u001b[43mlinha\u001b[49m\u001b[38;5;241;43m.\u001b[39;49m\u001b[43mget_attribute\u001b[49m\u001b[43m(\u001b[49m\u001b[38;5;124;43m'\u001b[39;49m\u001b[38;5;124;43minnerHTML\u001b[39;49m\u001b[38;5;124;43m'\u001b[39;49m\u001b[43m)\u001b[49m\n",
      "File \u001b[1;32mc:\\Users\\Gaby\\Documents\\web_scraping\\.venv\\Lib\\site-packages\\selenium\\webdriver\\remote\\webelement.py:178\u001b[0m, in \u001b[0;36mWebElement.get_attribute\u001b[1;34m(self, name)\u001b[0m\n\u001b[0;32m    176\u001b[0m \u001b[38;5;28;01mif\u001b[39;00m getAttribute_js \u001b[38;5;129;01mis\u001b[39;00m \u001b[38;5;28;01mNone\u001b[39;00m:\n\u001b[0;32m    177\u001b[0m     _load_js()\n\u001b[1;32m--> 178\u001b[0m attribute_value \u001b[38;5;241m=\u001b[39m \u001b[38;5;28;43mself\u001b[39;49m\u001b[38;5;241;43m.\u001b[39;49m\u001b[43mparent\u001b[49m\u001b[38;5;241;43m.\u001b[39;49m\u001b[43mexecute_script\u001b[49m\u001b[43m(\u001b[49m\n\u001b[0;32m    179\u001b[0m \u001b[43m    \u001b[49m\u001b[38;5;124;43mf\u001b[39;49m\u001b[38;5;124;43m\"\u001b[39;49m\u001b[38;5;124;43m/* getAttribute */return (\u001b[39;49m\u001b[38;5;132;43;01m{\u001b[39;49;00m\u001b[43mgetAttribute_js\u001b[49m\u001b[38;5;132;43;01m}\u001b[39;49;00m\u001b[38;5;124;43m).apply(null, arguments);\u001b[39;49m\u001b[38;5;124;43m\"\u001b[39;49m\u001b[43m,\u001b[49m\u001b[43m \u001b[49m\u001b[38;5;28;43mself\u001b[39;49m\u001b[43m,\u001b[49m\u001b[43m \u001b[49m\u001b[43mname\u001b[49m\n\u001b[0;32m    180\u001b[0m \u001b[43m\u001b[49m\u001b[43m)\u001b[49m\n\u001b[0;32m    181\u001b[0m \u001b[38;5;28;01mreturn\u001b[39;00m attribute_value\n",
      "File \u001b[1;32mc:\\Users\\Gaby\\Documents\\web_scraping\\.venv\\Lib\\site-packages\\selenium\\webdriver\\remote\\webdriver.py:414\u001b[0m, in \u001b[0;36mWebDriver.execute_script\u001b[1;34m(self, script, *args)\u001b[0m\n\u001b[0;32m    411\u001b[0m converted_args \u001b[38;5;241m=\u001b[39m \u001b[38;5;28mlist\u001b[39m(args)\n\u001b[0;32m    412\u001b[0m command \u001b[38;5;241m=\u001b[39m Command\u001b[38;5;241m.\u001b[39mW3C_EXECUTE_SCRIPT\n\u001b[1;32m--> 414\u001b[0m \u001b[38;5;28;01mreturn\u001b[39;00m \u001b[38;5;28;43mself\u001b[39;49m\u001b[38;5;241;43m.\u001b[39;49m\u001b[43mexecute\u001b[49m\u001b[43m(\u001b[49m\u001b[43mcommand\u001b[49m\u001b[43m,\u001b[49m\u001b[43m \u001b[49m\u001b[43m{\u001b[49m\u001b[38;5;124;43m\"\u001b[39;49m\u001b[38;5;124;43mscript\u001b[39;49m\u001b[38;5;124;43m\"\u001b[39;49m\u001b[43m:\u001b[49m\u001b[43m \u001b[49m\u001b[43mscript\u001b[49m\u001b[43m,\u001b[49m\u001b[43m \u001b[49m\u001b[38;5;124;43m\"\u001b[39;49m\u001b[38;5;124;43margs\u001b[39;49m\u001b[38;5;124;43m\"\u001b[39;49m\u001b[43m:\u001b[49m\u001b[43m \u001b[49m\u001b[43mconverted_args\u001b[49m\u001b[43m}\u001b[49m\u001b[43m)\u001b[49m[\u001b[38;5;124m\"\u001b[39m\u001b[38;5;124mvalue\u001b[39m\u001b[38;5;124m\"\u001b[39m]\n",
      "File \u001b[1;32mc:\\Users\\Gaby\\Documents\\web_scraping\\.venv\\Lib\\site-packages\\selenium\\webdriver\\remote\\webdriver.py:354\u001b[0m, in \u001b[0;36mWebDriver.execute\u001b[1;34m(self, driver_command, params)\u001b[0m\n\u001b[0;32m    352\u001b[0m response \u001b[38;5;241m=\u001b[39m \u001b[38;5;28mself\u001b[39m\u001b[38;5;241m.\u001b[39mcommand_executor\u001b[38;5;241m.\u001b[39mexecute(driver_command, params)\n\u001b[0;32m    353\u001b[0m \u001b[38;5;28;01mif\u001b[39;00m response:\n\u001b[1;32m--> 354\u001b[0m     \u001b[38;5;28;43mself\u001b[39;49m\u001b[38;5;241;43m.\u001b[39;49m\u001b[43merror_handler\u001b[49m\u001b[38;5;241;43m.\u001b[39;49m\u001b[43mcheck_response\u001b[49m\u001b[43m(\u001b[49m\u001b[43mresponse\u001b[49m\u001b[43m)\u001b[49m\n\u001b[0;32m    355\u001b[0m     response[\u001b[38;5;124m\"\u001b[39m\u001b[38;5;124mvalue\u001b[39m\u001b[38;5;124m\"\u001b[39m] \u001b[38;5;241m=\u001b[39m \u001b[38;5;28mself\u001b[39m\u001b[38;5;241m.\u001b[39m_unwrap_value(response\u001b[38;5;241m.\u001b[39mget(\u001b[38;5;124m\"\u001b[39m\u001b[38;5;124mvalue\u001b[39m\u001b[38;5;124m\"\u001b[39m, \u001b[38;5;28;01mNone\u001b[39;00m))\n\u001b[0;32m    356\u001b[0m     \u001b[38;5;28;01mreturn\u001b[39;00m response\n",
      "File \u001b[1;32mc:\\Users\\Gaby\\Documents\\web_scraping\\.venv\\Lib\\site-packages\\selenium\\webdriver\\remote\\errorhandler.py:229\u001b[0m, in \u001b[0;36mErrorHandler.check_response\u001b[1;34m(self, response)\u001b[0m\n\u001b[0;32m    227\u001b[0m         alert_text \u001b[38;5;241m=\u001b[39m value[\u001b[38;5;124m\"\u001b[39m\u001b[38;5;124malert\u001b[39m\u001b[38;5;124m\"\u001b[39m]\u001b[38;5;241m.\u001b[39mget(\u001b[38;5;124m\"\u001b[39m\u001b[38;5;124mtext\u001b[39m\u001b[38;5;124m\"\u001b[39m)\n\u001b[0;32m    228\u001b[0m     \u001b[38;5;28;01mraise\u001b[39;00m exception_class(message, screen, stacktrace, alert_text)  \u001b[38;5;66;03m# type: ignore[call-arg]  # mypy is not smart enough here\u001b[39;00m\n\u001b[1;32m--> 229\u001b[0m \u001b[38;5;28;01mraise\u001b[39;00m exception_class(message, screen, stacktrace)\n",
      "\u001b[1;31mStaleElementReferenceException\u001b[0m: Message: stale element reference: stale element not found in the current frame\n  (Session info: chrome=126.0.6478.127); For documentation on this error, please visit: https://www.selenium.dev/documentation/webdriver/troubleshooting/errors#stale-element-reference-exception\nStacktrace:\n\tGetHandleVerifier [0x00007FF7D93BEEA2+31554]\n\t(No symbol) [0x00007FF7D9337ED9]\n\t(No symbol) [0x00007FF7D91F872A]\n\t(No symbol) [0x00007FF7D91FE55E]\n\t(No symbol) [0x00007FF7D92011D8]\n\t(No symbol) [0x00007FF7D928D69B]\n\t(No symbol) [0x00007FF7D926D02A]\n\t(No symbol) [0x00007FF7D928C977]\n\t(No symbol) [0x00007FF7D926CDD3]\n\t(No symbol) [0x00007FF7D923A33B]\n\t(No symbol) [0x00007FF7D923AED1]\n\tGetHandleVerifier [0x00007FF7D96C8B1D+3217341]\n\tGetHandleVerifier [0x00007FF7D9715AE3+3532675]\n\tGetHandleVerifier [0x00007FF7D970B0E0+3489152]\n\tGetHandleVerifier [0x00007FF7D946E776+750614]\n\t(No symbol) [0x00007FF7D934375F]\n\t(No symbol) [0x00007FF7D933EB14]\n\t(No symbol) [0x00007FF7D933ECA2]\n\t(No symbol) [0x00007FF7D932E16F]\n\tBaseThreadInitThunk [0x00007FFD2E95257D+29]\n\tRtlUserThreadStart [0x00007FFD3002AF28+40]\n"
     ]
    }
   ],
   "source": [
    "linha.get_attribute('innerHTML')"
   ]
  },
  {
   "cell_type": "code",
   "execution_count": 184,
   "metadata": {},
   "outputs": [
    {
     "data": {
      "text/plain": [
       "'00270753520218190014'"
      ]
     },
     "execution_count": 184,
     "metadata": {},
     "output_type": "execute_result"
    }
   ],
   "source": [
    "col_numero[-1]"
   ]
  },
  {
   "cell_type": "code",
   "execution_count": 185,
   "metadata": {},
   "outputs": [
    {
     "data": {
      "text/plain": [
       "22"
      ]
     },
     "execution_count": 185,
     "metadata": {},
     "output_type": "execute_result"
    }
   ],
   "source": [
    "len(col_numero)"
   ]
  },
  {
   "cell_type": "code",
   "execution_count": 186,
   "metadata": {},
   "outputs": [],
   "source": [
    "scraping_values = {'Comarca': col_comarca, 'Orgão de execução': col_orgao, 'Tipo de documento': col_tipo, 'Membro': col_membro, 'Número': col_numero, 'Distribuído em': col_distribuido_em, 'Submetido em': col_submetido_em, 'Tipo': col_tipo, 'Unidade': col_unidade}\n",
    "# scraping_values"
   ]
  },
  {
   "cell_type": "code",
   "execution_count": 194,
   "metadata": {},
   "outputs": [
    {
     "data": {
      "text/plain": [
       "['00011445920238190014',\n",
       " '00270753520218190014',\n",
       " '00087088920238190014',\n",
       " '08132594520248190014',\n",
       " '01849252620238190001',\n",
       " '00140490420208190014',\n",
       " '00026746420248190014',\n",
       " '00026729420248190014',\n",
       " '00025343020248190014',\n",
       " '00013520920248190014',\n",
       " '00011339320248190014',\n",
       " '00010836720248190014',\n",
       " '00008610720218190014',\n",
       " '08116887320238190014',\n",
       " '00054255820238190014',\n",
       " '00022785820228190014',\n",
       " '00107926320238190014',\n",
       " '00286719820148190014',\n",
       " '08106915620248190014',\n",
       " '08140184320238190014',\n",
       " '00011445920238190014',\n",
       " '00270753520218190014']"
      ]
     },
     "execution_count": 194,
     "metadata": {},
     "output_type": "execute_result"
    }
   ],
   "source": [
    "col_numero"
   ]
  },
  {
   "cell_type": "code",
   "execution_count": 187,
   "metadata": {},
   "outputs": [
    {
     "ename": "ValueError",
     "evalue": "All arrays must be of the same length",
     "output_type": "error",
     "traceback": [
      "\u001b[1;31m---------------------------------------------------------------------------\u001b[0m",
      "\u001b[1;31mValueError\u001b[0m                                Traceback (most recent call last)",
      "Cell \u001b[1;32mIn[187], line 1\u001b[0m\n\u001b[1;32m----> 1\u001b[0m df \u001b[38;5;241m=\u001b[39m \u001b[43mpd\u001b[49m\u001b[38;5;241;43m.\u001b[39;49m\u001b[43mDataFrame\u001b[49m\u001b[38;5;241;43m.\u001b[39;49m\u001b[43mfrom_dict\u001b[49m\u001b[43m(\u001b[49m\u001b[43mscraping_values\u001b[49m\u001b[43m)\u001b[49m \u001b[38;5;66;03m# columns=['Número', 'Distribuído em', 'Submetido em', 'Tipo', 'Unidade'])\u001b[39;00m\n\u001b[0;32m      2\u001b[0m df\n",
      "File \u001b[1;32mc:\\Users\\Gaby\\Documents\\web_scraping\\.venv\\Lib\\site-packages\\pandas\\core\\frame.py:1917\u001b[0m, in \u001b[0;36mDataFrame.from_dict\u001b[1;34m(cls, data, orient, dtype, columns)\u001b[0m\n\u001b[0;32m   1911\u001b[0m     \u001b[38;5;28;01mraise\u001b[39;00m \u001b[38;5;167;01mValueError\u001b[39;00m(\n\u001b[0;32m   1912\u001b[0m         \u001b[38;5;124mf\u001b[39m\u001b[38;5;124m\"\u001b[39m\u001b[38;5;124mExpected \u001b[39m\u001b[38;5;124m'\u001b[39m\u001b[38;5;124mindex\u001b[39m\u001b[38;5;124m'\u001b[39m\u001b[38;5;124m, \u001b[39m\u001b[38;5;124m'\u001b[39m\u001b[38;5;124mcolumns\u001b[39m\u001b[38;5;124m'\u001b[39m\u001b[38;5;124m or \u001b[39m\u001b[38;5;124m'\u001b[39m\u001b[38;5;124mtight\u001b[39m\u001b[38;5;124m'\u001b[39m\u001b[38;5;124m for orient parameter. \u001b[39m\u001b[38;5;124m\"\u001b[39m\n\u001b[0;32m   1913\u001b[0m         \u001b[38;5;124mf\u001b[39m\u001b[38;5;124m\"\u001b[39m\u001b[38;5;124mGot \u001b[39m\u001b[38;5;124m'\u001b[39m\u001b[38;5;132;01m{\u001b[39;00morient\u001b[38;5;132;01m}\u001b[39;00m\u001b[38;5;124m'\u001b[39m\u001b[38;5;124m instead\u001b[39m\u001b[38;5;124m\"\u001b[39m\n\u001b[0;32m   1914\u001b[0m     )\n\u001b[0;32m   1916\u001b[0m \u001b[38;5;28;01mif\u001b[39;00m orient \u001b[38;5;241m!=\u001b[39m \u001b[38;5;124m\"\u001b[39m\u001b[38;5;124mtight\u001b[39m\u001b[38;5;124m\"\u001b[39m:\n\u001b[1;32m-> 1917\u001b[0m     \u001b[38;5;28;01mreturn\u001b[39;00m \u001b[38;5;28;43mcls\u001b[39;49m\u001b[43m(\u001b[49m\u001b[43mdata\u001b[49m\u001b[43m,\u001b[49m\u001b[43m \u001b[49m\u001b[43mindex\u001b[49m\u001b[38;5;241;43m=\u001b[39;49m\u001b[43mindex\u001b[49m\u001b[43m,\u001b[49m\u001b[43m \u001b[49m\u001b[43mcolumns\u001b[49m\u001b[38;5;241;43m=\u001b[39;49m\u001b[43mcolumns\u001b[49m\u001b[43m,\u001b[49m\u001b[43m \u001b[49m\u001b[43mdtype\u001b[49m\u001b[38;5;241;43m=\u001b[39;49m\u001b[43mdtype\u001b[49m\u001b[43m)\u001b[49m\n\u001b[0;32m   1918\u001b[0m \u001b[38;5;28;01melse\u001b[39;00m:\n\u001b[0;32m   1919\u001b[0m     realdata \u001b[38;5;241m=\u001b[39m data[\u001b[38;5;124m\"\u001b[39m\u001b[38;5;124mdata\u001b[39m\u001b[38;5;124m\"\u001b[39m]\n",
      "File \u001b[1;32mc:\\Users\\Gaby\\Documents\\web_scraping\\.venv\\Lib\\site-packages\\pandas\\core\\frame.py:778\u001b[0m, in \u001b[0;36mDataFrame.__init__\u001b[1;34m(self, data, index, columns, dtype, copy)\u001b[0m\n\u001b[0;32m    772\u001b[0m     mgr \u001b[38;5;241m=\u001b[39m \u001b[38;5;28mself\u001b[39m\u001b[38;5;241m.\u001b[39m_init_mgr(\n\u001b[0;32m    773\u001b[0m         data, axes\u001b[38;5;241m=\u001b[39m{\u001b[38;5;124m\"\u001b[39m\u001b[38;5;124mindex\u001b[39m\u001b[38;5;124m\"\u001b[39m: index, \u001b[38;5;124m\"\u001b[39m\u001b[38;5;124mcolumns\u001b[39m\u001b[38;5;124m\"\u001b[39m: columns}, dtype\u001b[38;5;241m=\u001b[39mdtype, copy\u001b[38;5;241m=\u001b[39mcopy\n\u001b[0;32m    774\u001b[0m     )\n\u001b[0;32m    776\u001b[0m \u001b[38;5;28;01melif\u001b[39;00m \u001b[38;5;28misinstance\u001b[39m(data, \u001b[38;5;28mdict\u001b[39m):\n\u001b[0;32m    777\u001b[0m     \u001b[38;5;66;03m# GH#38939 de facto copy defaults to False only in non-dict cases\u001b[39;00m\n\u001b[1;32m--> 778\u001b[0m     mgr \u001b[38;5;241m=\u001b[39m \u001b[43mdict_to_mgr\u001b[49m\u001b[43m(\u001b[49m\u001b[43mdata\u001b[49m\u001b[43m,\u001b[49m\u001b[43m \u001b[49m\u001b[43mindex\u001b[49m\u001b[43m,\u001b[49m\u001b[43m \u001b[49m\u001b[43mcolumns\u001b[49m\u001b[43m,\u001b[49m\u001b[43m \u001b[49m\u001b[43mdtype\u001b[49m\u001b[38;5;241;43m=\u001b[39;49m\u001b[43mdtype\u001b[49m\u001b[43m,\u001b[49m\u001b[43m \u001b[49m\u001b[43mcopy\u001b[49m\u001b[38;5;241;43m=\u001b[39;49m\u001b[43mcopy\u001b[49m\u001b[43m,\u001b[49m\u001b[43m \u001b[49m\u001b[43mtyp\u001b[49m\u001b[38;5;241;43m=\u001b[39;49m\u001b[43mmanager\u001b[49m\u001b[43m)\u001b[49m\n\u001b[0;32m    779\u001b[0m \u001b[38;5;28;01melif\u001b[39;00m \u001b[38;5;28misinstance\u001b[39m(data, ma\u001b[38;5;241m.\u001b[39mMaskedArray):\n\u001b[0;32m    780\u001b[0m     \u001b[38;5;28;01mfrom\u001b[39;00m \u001b[38;5;21;01mnumpy\u001b[39;00m\u001b[38;5;21;01m.\u001b[39;00m\u001b[38;5;21;01mma\u001b[39;00m \u001b[38;5;28;01mimport\u001b[39;00m mrecords\n",
      "File \u001b[1;32mc:\\Users\\Gaby\\Documents\\web_scraping\\.venv\\Lib\\site-packages\\pandas\\core\\internals\\construction.py:503\u001b[0m, in \u001b[0;36mdict_to_mgr\u001b[1;34m(data, index, columns, dtype, typ, copy)\u001b[0m\n\u001b[0;32m    499\u001b[0m     \u001b[38;5;28;01melse\u001b[39;00m:\n\u001b[0;32m    500\u001b[0m         \u001b[38;5;66;03m# dtype check to exclude e.g. range objects, scalars\u001b[39;00m\n\u001b[0;32m    501\u001b[0m         arrays \u001b[38;5;241m=\u001b[39m [x\u001b[38;5;241m.\u001b[39mcopy() \u001b[38;5;28;01mif\u001b[39;00m \u001b[38;5;28mhasattr\u001b[39m(x, \u001b[38;5;124m\"\u001b[39m\u001b[38;5;124mdtype\u001b[39m\u001b[38;5;124m\"\u001b[39m) \u001b[38;5;28;01melse\u001b[39;00m x \u001b[38;5;28;01mfor\u001b[39;00m x \u001b[38;5;129;01min\u001b[39;00m arrays]\n\u001b[1;32m--> 503\u001b[0m \u001b[38;5;28;01mreturn\u001b[39;00m \u001b[43marrays_to_mgr\u001b[49m\u001b[43m(\u001b[49m\u001b[43marrays\u001b[49m\u001b[43m,\u001b[49m\u001b[43m \u001b[49m\u001b[43mcolumns\u001b[49m\u001b[43m,\u001b[49m\u001b[43m \u001b[49m\u001b[43mindex\u001b[49m\u001b[43m,\u001b[49m\u001b[43m \u001b[49m\u001b[43mdtype\u001b[49m\u001b[38;5;241;43m=\u001b[39;49m\u001b[43mdtype\u001b[49m\u001b[43m,\u001b[49m\u001b[43m \u001b[49m\u001b[43mtyp\u001b[49m\u001b[38;5;241;43m=\u001b[39;49m\u001b[43mtyp\u001b[49m\u001b[43m,\u001b[49m\u001b[43m \u001b[49m\u001b[43mconsolidate\u001b[49m\u001b[38;5;241;43m=\u001b[39;49m\u001b[43mcopy\u001b[49m\u001b[43m)\u001b[49m\n",
      "File \u001b[1;32mc:\\Users\\Gaby\\Documents\\web_scraping\\.venv\\Lib\\site-packages\\pandas\\core\\internals\\construction.py:114\u001b[0m, in \u001b[0;36marrays_to_mgr\u001b[1;34m(arrays, columns, index, dtype, verify_integrity, typ, consolidate)\u001b[0m\n\u001b[0;32m    111\u001b[0m \u001b[38;5;28;01mif\u001b[39;00m verify_integrity:\n\u001b[0;32m    112\u001b[0m     \u001b[38;5;66;03m# figure out the index, if necessary\u001b[39;00m\n\u001b[0;32m    113\u001b[0m     \u001b[38;5;28;01mif\u001b[39;00m index \u001b[38;5;129;01mis\u001b[39;00m \u001b[38;5;28;01mNone\u001b[39;00m:\n\u001b[1;32m--> 114\u001b[0m         index \u001b[38;5;241m=\u001b[39m \u001b[43m_extract_index\u001b[49m\u001b[43m(\u001b[49m\u001b[43marrays\u001b[49m\u001b[43m)\u001b[49m\n\u001b[0;32m    115\u001b[0m     \u001b[38;5;28;01melse\u001b[39;00m:\n\u001b[0;32m    116\u001b[0m         index \u001b[38;5;241m=\u001b[39m ensure_index(index)\n",
      "File \u001b[1;32mc:\\Users\\Gaby\\Documents\\web_scraping\\.venv\\Lib\\site-packages\\pandas\\core\\internals\\construction.py:677\u001b[0m, in \u001b[0;36m_extract_index\u001b[1;34m(data)\u001b[0m\n\u001b[0;32m    675\u001b[0m lengths \u001b[38;5;241m=\u001b[39m \u001b[38;5;28mlist\u001b[39m(\u001b[38;5;28mset\u001b[39m(raw_lengths))\n\u001b[0;32m    676\u001b[0m \u001b[38;5;28;01mif\u001b[39;00m \u001b[38;5;28mlen\u001b[39m(lengths) \u001b[38;5;241m>\u001b[39m \u001b[38;5;241m1\u001b[39m:\n\u001b[1;32m--> 677\u001b[0m     \u001b[38;5;28;01mraise\u001b[39;00m \u001b[38;5;167;01mValueError\u001b[39;00m(\u001b[38;5;124m\"\u001b[39m\u001b[38;5;124mAll arrays must be of the same length\u001b[39m\u001b[38;5;124m\"\u001b[39m)\n\u001b[0;32m    679\u001b[0m \u001b[38;5;28;01mif\u001b[39;00m have_dicts:\n\u001b[0;32m    680\u001b[0m     \u001b[38;5;28;01mraise\u001b[39;00m \u001b[38;5;167;01mValueError\u001b[39;00m(\n\u001b[0;32m    681\u001b[0m         \u001b[38;5;124m\"\u001b[39m\u001b[38;5;124mMixing dicts with non-Series may lead to ambiguous ordering.\u001b[39m\u001b[38;5;124m\"\u001b[39m\n\u001b[0;32m    682\u001b[0m     )\n",
      "\u001b[1;31mValueError\u001b[0m: All arrays must be of the same length"
     ]
    }
   ],
   "source": [
    "df = pd.DataFrame.from_dict(scraping_values) # columns=['Número', 'Distribuído em', 'Submetido em', 'Tipo', 'Unidade'])\n",
    "df"
   ]
  },
  {
   "cell_type": "code",
   "execution_count": 139,
   "metadata": {},
   "outputs": [],
   "source": [
    "df.to_csv('teste.csv')"
   ]
  }
 ],
 "metadata": {
  "kernelspec": {
   "display_name": "Python 3",
   "language": "python",
   "name": "python3"
  },
  "language_info": {
   "codemirror_mode": {
    "name": "ipython",
    "version": 3
   },
   "file_extension": ".py",
   "mimetype": "text/x-python",
   "name": "python",
   "nbconvert_exporter": "python",
   "pygments_lexer": "ipython3",
   "version": "3.12.4"
  },
  "orig_nbformat": 4
 },
 "nbformat": 4,
 "nbformat_minor": 2
}
