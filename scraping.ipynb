{
 "cells": [
  {
   "cell_type": "code",
   "execution_count": 5,
   "metadata": {},
   "outputs": [],
   "source": [
    "from selenium import webdriver\n",
    "from selenium.webdriver.common.by import By\n",
    "from selenium.webdriver.support import expected_conditions as EC\n",
    "from selenium.webdriver.support.wait import WebDriverWait\n",
    "from selenium.webdriver.support.ui import Select\n",
    "from time import sleep\n",
    "from urllib.parse import quote\n",
    "from queue import Queue\n",
    "import pandas as pd\n",
    "import os\n",
    "from selenium.webdriver.common.action_chains import ActionChains\n",
    "import requests"
   ]
  },
  {
   "cell_type": "code",
   "execution_count": 103,
   "metadata": {},
   "outputs": [],
   "source": [
    "# Função para acessar o portal com os parametros desejados\n",
    "def consultar(navegador):\n",
    "    url='https://transparencia.mprj.mp.br/web/novo-portal-transparencia/processos-distribuidos-novo'\n",
    "    navegador.get(url)"
   ]
  },
  {
   "cell_type": "code",
   "execution_count": 216,
   "metadata": {},
   "outputs": [],
   "source": [
    "# Iniciando drive do Chorme\n",
    "\n",
    "op = webdriver.ChromeOptions()\n",
    "op.add_argument('headless')\n",
    "driver = webdriver.Chrome(options=op)\n",
    "# driver = webdriver.Chrome()\n",
    "\n",
    "# inicia a pagiana e espera 5 segundos para os dados serem carregados\n",
    "consultar(driver)\n",
    "sleep(1)"
   ]
  },
  {
   "cell_type": "code",
   "execution_count": 217,
   "metadata": {},
   "outputs": [],
   "source": [
    "# Identificadores do HTML\n",
    "\n",
    "comarca_id = 'comarcaId'\n",
    "orgao_id = 'orgaoId'\n",
    "tipo_documento_id = 'documentoId'\n",
    "membro_id = 'membroId'\n",
    "\n",
    "btn_buscar_id = 'export'\n",
    "\n",
    "linha_tabela_class = 'tr-modal' #'tabela-cargos-membros'\n",
    "pagination_css = 'li.page-item.active'\n",
    "\n",
    "def get_element(id):\n",
    "    element = driver.find_element(By.ID, id)\n",
    "    return element\n"
   ]
  },
  {
   "cell_type": "code",
   "execution_count": 218,
   "metadata": {},
   "outputs": [],
   "source": [
    "from datetime import datetime\n",
    "\n",
    "def save_to_csv(name, col_comarca, col_orgao, col_membro, col_numero, col_distribuido_em, col_submetido_em, col_tipo, col_unidade):\n",
    "    file_name = f'{name}_{datetime.now().strftime(\"%d-%m-%Y_%H-%M-%S\")}'\n",
    "    scraping_values = {'Comarca': col_comarca, 'Orgão de execução': col_orgao, 'Tipo de documento': col_tipo, 'Membro': col_membro, 'Número': col_numero, 'Distribuído em': col_distribuido_em, 'Submetido em': col_submetido_em, 'Tipo': col_tipo, 'Unidade': col_unidade}\n",
    "    df = pd.DataFrame.from_dict(scraping_values) \n",
    "\n",
    "    df.to_csv(f'{file_name}.csv')"
   ]
  },
  {
   "cell_type": "code",
   "execution_count": 219,
   "metadata": {},
   "outputs": [
    {
     "ename": "ElementClickInterceptedException",
     "evalue": "Message: element click intercepted: Element <li class=\"page-item\">...</li> is not clickable at point (588, 523). Other element would receive the click: <div class=\"modal-backdrop modal-loader-back fade show\"></div>\n  (Session info: chrome-headless-shell=126.0.6478.127)\nStacktrace:\n\tGetHandleVerifier [0x00007FF7D93BEEA2+31554]\n\t(No symbol) [0x00007FF7D9337ED9]\n\t(No symbol) [0x00007FF7D91F872A]\n\t(No symbol) [0x00007FF7D925012E]\n\t(No symbol) [0x00007FF7D924DAF2]\n\t(No symbol) [0x00007FF7D924AF8B]\n\t(No symbol) [0x00007FF7D924A156]\n\t(No symbol) [0x00007FF7D923C151]\n\t(No symbol) [0x00007FF7D926D02A]\n\t(No symbol) [0x00007FF7D923BA76]\n\t(No symbol) [0x00007FF7D926D240]\n\t(No symbol) [0x00007FF7D928C977]\n\t(No symbol) [0x00007FF7D926CDD3]\n\t(No symbol) [0x00007FF7D923A33B]\n\t(No symbol) [0x00007FF7D923AED1]\n\tGetHandleVerifier [0x00007FF7D96C8B1D+3217341]\n\tGetHandleVerifier [0x00007FF7D9715AE3+3532675]\n\tGetHandleVerifier [0x00007FF7D970B0E0+3489152]\n\tGetHandleVerifier [0x00007FF7D946E776+750614]\n\t(No symbol) [0x00007FF7D934375F]\n\t(No symbol) [0x00007FF7D933EB14]\n\t(No symbol) [0x00007FF7D933ECA2]\n\t(No symbol) [0x00007FF7D932E16F]\n\tBaseThreadInitThunk [0x00007FFD2E95257D+29]\n\tRtlUserThreadStart [0x00007FFD3002AF28+40]\n",
     "output_type": "error",
     "traceback": [
      "\u001b[1;31m---------------------------------------------------------------------------\u001b[0m",
      "\u001b[1;31mElementClickInterceptedException\u001b[0m          Traceback (most recent call last)",
      "Cell \u001b[1;32mIn[219], line 124\u001b[0m\n\u001b[0;32m    120\u001b[0m                 \u001b[38;5;28;01mexcept\u001b[39;00m \u001b[38;5;167;01mException\u001b[39;00m:\n\u001b[0;32m    121\u001b[0m                     \u001b[38;5;66;03m# Não tem próxima pagina\u001b[39;00m\n\u001b[0;32m    122\u001b[0m                     \u001b[38;5;28;01mbreak\u001b[39;00m\n\u001b[1;32m--> 124\u001b[0m                 \u001b[43mnext_page\u001b[49m\u001b[38;5;241;43m.\u001b[39;49m\u001b[43mclick\u001b[49m\u001b[43m(\u001b[49m\u001b[43m)\u001b[49m   \n\u001b[0;32m    127\u001b[0m             driver\u001b[38;5;241m.\u001b[39mfind_element(By\u001b[38;5;241m.\u001b[39mCSS_SELECTOR, \u001b[38;5;124m'\u001b[39m\u001b[38;5;124mbutton.close.btn.btn-unstyled\u001b[39m\u001b[38;5;124m'\u001b[39m)\u001b[38;5;241m.\u001b[39mclick() \u001b[38;5;66;03m#fechar modal\u001b[39;00m\n\u001b[0;32m    129\u001b[0m save_to_csv(name_comarca, col_comarca, col_orgao, col_membro, col_numero, col_distribuido_em, col_submetido_em, col_tipo, col_unidade)\n",
      "File \u001b[1;32mc:\\Users\\Gaby\\Documents\\web_scraping\\.venv\\Lib\\site-packages\\selenium\\webdriver\\remote\\webelement.py:94\u001b[0m, in \u001b[0;36mWebElement.click\u001b[1;34m(self)\u001b[0m\n\u001b[0;32m     92\u001b[0m \u001b[38;5;28;01mdef\u001b[39;00m \u001b[38;5;21mclick\u001b[39m(\u001b[38;5;28mself\u001b[39m) \u001b[38;5;241m-\u001b[39m\u001b[38;5;241m>\u001b[39m \u001b[38;5;28;01mNone\u001b[39;00m:\n\u001b[0;32m     93\u001b[0m \u001b[38;5;250m    \u001b[39m\u001b[38;5;124;03m\"\"\"Clicks the element.\"\"\"\u001b[39;00m\n\u001b[1;32m---> 94\u001b[0m     \u001b[38;5;28;43mself\u001b[39;49m\u001b[38;5;241;43m.\u001b[39;49m\u001b[43m_execute\u001b[49m\u001b[43m(\u001b[49m\u001b[43mCommand\u001b[49m\u001b[38;5;241;43m.\u001b[39;49m\u001b[43mCLICK_ELEMENT\u001b[49m\u001b[43m)\u001b[49m\n",
      "File \u001b[1;32mc:\\Users\\Gaby\\Documents\\web_scraping\\.venv\\Lib\\site-packages\\selenium\\webdriver\\remote\\webelement.py:395\u001b[0m, in \u001b[0;36mWebElement._execute\u001b[1;34m(self, command, params)\u001b[0m\n\u001b[0;32m    393\u001b[0m     params \u001b[38;5;241m=\u001b[39m {}\n\u001b[0;32m    394\u001b[0m params[\u001b[38;5;124m\"\u001b[39m\u001b[38;5;124mid\u001b[39m\u001b[38;5;124m\"\u001b[39m] \u001b[38;5;241m=\u001b[39m \u001b[38;5;28mself\u001b[39m\u001b[38;5;241m.\u001b[39m_id\n\u001b[1;32m--> 395\u001b[0m \u001b[38;5;28;01mreturn\u001b[39;00m \u001b[38;5;28;43mself\u001b[39;49m\u001b[38;5;241;43m.\u001b[39;49m\u001b[43m_parent\u001b[49m\u001b[38;5;241;43m.\u001b[39;49m\u001b[43mexecute\u001b[49m\u001b[43m(\u001b[49m\u001b[43mcommand\u001b[49m\u001b[43m,\u001b[49m\u001b[43m \u001b[49m\u001b[43mparams\u001b[49m\u001b[43m)\u001b[49m\n",
      "File \u001b[1;32mc:\\Users\\Gaby\\Documents\\web_scraping\\.venv\\Lib\\site-packages\\selenium\\webdriver\\remote\\webdriver.py:354\u001b[0m, in \u001b[0;36mWebDriver.execute\u001b[1;34m(self, driver_command, params)\u001b[0m\n\u001b[0;32m    352\u001b[0m response \u001b[38;5;241m=\u001b[39m \u001b[38;5;28mself\u001b[39m\u001b[38;5;241m.\u001b[39mcommand_executor\u001b[38;5;241m.\u001b[39mexecute(driver_command, params)\n\u001b[0;32m    353\u001b[0m \u001b[38;5;28;01mif\u001b[39;00m response:\n\u001b[1;32m--> 354\u001b[0m     \u001b[38;5;28;43mself\u001b[39;49m\u001b[38;5;241;43m.\u001b[39;49m\u001b[43merror_handler\u001b[49m\u001b[38;5;241;43m.\u001b[39;49m\u001b[43mcheck_response\u001b[49m\u001b[43m(\u001b[49m\u001b[43mresponse\u001b[49m\u001b[43m)\u001b[49m\n\u001b[0;32m    355\u001b[0m     response[\u001b[38;5;124m\"\u001b[39m\u001b[38;5;124mvalue\u001b[39m\u001b[38;5;124m\"\u001b[39m] \u001b[38;5;241m=\u001b[39m \u001b[38;5;28mself\u001b[39m\u001b[38;5;241m.\u001b[39m_unwrap_value(response\u001b[38;5;241m.\u001b[39mget(\u001b[38;5;124m\"\u001b[39m\u001b[38;5;124mvalue\u001b[39m\u001b[38;5;124m\"\u001b[39m, \u001b[38;5;28;01mNone\u001b[39;00m))\n\u001b[0;32m    356\u001b[0m     \u001b[38;5;28;01mreturn\u001b[39;00m response\n",
      "File \u001b[1;32mc:\\Users\\Gaby\\Documents\\web_scraping\\.venv\\Lib\\site-packages\\selenium\\webdriver\\remote\\errorhandler.py:229\u001b[0m, in \u001b[0;36mErrorHandler.check_response\u001b[1;34m(self, response)\u001b[0m\n\u001b[0;32m    227\u001b[0m         alert_text \u001b[38;5;241m=\u001b[39m value[\u001b[38;5;124m\"\u001b[39m\u001b[38;5;124malert\u001b[39m\u001b[38;5;124m\"\u001b[39m]\u001b[38;5;241m.\u001b[39mget(\u001b[38;5;124m\"\u001b[39m\u001b[38;5;124mtext\u001b[39m\u001b[38;5;124m\"\u001b[39m)\n\u001b[0;32m    228\u001b[0m     \u001b[38;5;28;01mraise\u001b[39;00m exception_class(message, screen, stacktrace, alert_text)  \u001b[38;5;66;03m# type: ignore[call-arg]  # mypy is not smart enough here\u001b[39;00m\n\u001b[1;32m--> 229\u001b[0m \u001b[38;5;28;01mraise\u001b[39;00m exception_class(message, screen, stacktrace)\n",
      "\u001b[1;31mElementClickInterceptedException\u001b[0m: Message: element click intercepted: Element <li class=\"page-item\">...</li> is not clickable at point (588, 523). Other element would receive the click: <div class=\"modal-backdrop modal-loader-back fade show\"></div>\n  (Session info: chrome-headless-shell=126.0.6478.127)\nStacktrace:\n\tGetHandleVerifier [0x00007FF7D93BEEA2+31554]\n\t(No symbol) [0x00007FF7D9337ED9]\n\t(No symbol) [0x00007FF7D91F872A]\n\t(No symbol) [0x00007FF7D925012E]\n\t(No symbol) [0x00007FF7D924DAF2]\n\t(No symbol) [0x00007FF7D924AF8B]\n\t(No symbol) [0x00007FF7D924A156]\n\t(No symbol) [0x00007FF7D923C151]\n\t(No symbol) [0x00007FF7D926D02A]\n\t(No symbol) [0x00007FF7D923BA76]\n\t(No symbol) [0x00007FF7D926D240]\n\t(No symbol) [0x00007FF7D928C977]\n\t(No symbol) [0x00007FF7D926CDD3]\n\t(No symbol) [0x00007FF7D923A33B]\n\t(No symbol) [0x00007FF7D923AED1]\n\tGetHandleVerifier [0x00007FF7D96C8B1D+3217341]\n\tGetHandleVerifier [0x00007FF7D9715AE3+3532675]\n\tGetHandleVerifier [0x00007FF7D970B0E0+3489152]\n\tGetHandleVerifier [0x00007FF7D946E776+750614]\n\t(No symbol) [0x00007FF7D934375F]\n\t(No symbol) [0x00007FF7D933EB14]\n\t(No symbol) [0x00007FF7D933ECA2]\n\t(No symbol) [0x00007FF7D932E16F]\n\tBaseThreadInitThunk [0x00007FFD2E95257D+29]\n\tRtlUserThreadStart [0x00007FFD3002AF28+40]\n"
     ]
    }
   ],
   "source": [
    "comarcas_visitados = []\n",
    "\n",
    "comarcas = get_element(comarca_id)\n",
    "\n",
    "for comarca in comarcas.find_elements(By.TAG_NAME, \"option\"):\n",
    "\n",
    "    # manualmente terminei o CAMPOS DOS GOYTACAZES\n",
    "\n",
    "    for i in range(0, 15):\n",
    "        comarcas_visitados.append(comarcas.find_elements(By.TAG_NAME, \"option\")[i].get_attribute('innerHTML'))\n",
    "\n",
    "    if comarca.get_attribute('innerHTML') in comarcas_visitados:\n",
    "        continue\n",
    "\n",
    "    col_comarca = []\n",
    "    col_orgao = []\n",
    "    col_tipo_doc = []\n",
    "    col_membro = []\n",
    "    col_numero = []\n",
    "    col_distribuido_em = []\n",
    "    col_submetido_em = []\n",
    "    col_tipo = []\n",
    "    col_unidade = []   \n",
    "     \n",
    "    value = comarca.get_attribute('value')\n",
    "\n",
    "    if value:\n",
    "        Select(comarcas).select_by_value(value)\n",
    "    else:\n",
    "        continue\n",
    "\n",
    "    name_comarca = comarca.text\n",
    "    sleep(1)\n",
    "\n",
    "    orgaos = get_element(orgao_id)\n",
    "    for orgao in orgaos.find_elements(By.TAG_NAME, \"option\"):\n",
    "        value = orgao.get_attribute('value')\n",
    "        if value:\n",
    "            Select(orgaos).select_by_value(value)  \n",
    "        else:\n",
    "            continue   \n",
    "\n",
    "        name_orgao = orgao.text\n",
    "        sleep(1)\n",
    "\n",
    "        tipos = get_element(tipo_documento_id)\n",
    "        for tipo in tipos.find_elements(By.TAG_NAME, \"option\"):\n",
    "            value = tipo.get_attribute('value')\n",
    "            if value:\n",
    "                Select(tipos).select_by_value(value)  \n",
    "            else:\n",
    "                continue    \n",
    "\n",
    "            name_tipo_doc = tipo.text\n",
    "            sleep(1)\n",
    "\n",
    "            membros = get_element(membro_id)\n",
    "            for membro in membros.find_elements(By.TAG_NAME, \"option\"):\n",
    "                value = membro.get_attribute('value')\n",
    "                if value:\n",
    "                    Select(membros).select_by_value(value)     \n",
    "                    # print('membro encontrado')\n",
    "                else:\n",
    "                    # print('membro nao encontrado')\n",
    "                    continue\n",
    "\n",
    "                name_membro = membro.text\n",
    "                                    \n",
    "                # Busca\n",
    "                buscar = get_element(btn_buscar_id).click() \n",
    "   \n",
    "                sleep(1)          \n",
    "\n",
    "                pages_visited = []\n",
    "\n",
    "                actual_page = driver.find_element(By.CSS_SELECTOR, pagination_css)   \n",
    "                # pages_visited.append(actual_page.text)\n",
    "\n",
    "                # next_pages = actual_page.find_elements(By.XPATH, './/following-sibling::li')\n",
    "\n",
    "                # for i in range(0, len(next_pages)):\n",
    "                while True:\n",
    "                    # print(next_pages[i].get_attribute('innerHTML'))\n",
    "\n",
    "                    # if next_pages[i].text in pages_visited:\n",
    "                    #     continue\n",
    "                    linhas_tabela = driver.find_elements(By.CLASS_NAME, linha_tabela_class)  \n",
    "\n",
    "                    for linha in linhas_tabela:     \n",
    "                        # print(linha.get_attribute('innerHTML'))\n",
    "                        \n",
    "                        try:\n",
    "                            colunas = linha.find_elements(By.TAG_NAME, 'td')\n",
    "                        except Exception:\n",
    "                            break\n",
    "\n",
    "                        colunas = list(colunas)\n",
    "\n",
    "                        # print(list(colunas)[0].text)\n",
    "                        # print(colunas[1].get_attribute('text'))\n",
    "\n",
    "                        # print(len(linhas_tabela))\n",
    "\n",
    "                        col_numero.append(colunas[0].text)\n",
    "                        col_distribuido_em.append(colunas[1].text)\n",
    "                        col_submetido_em.append(colunas[2].text)\n",
    "                        col_tipo.append(colunas[3].text)\n",
    "                        col_unidade.append(colunas[4].text)   \n",
    "                        col_comarca.append(name_comarca)\n",
    "                        col_orgao.append(name_orgao)\n",
    "                        col_tipo_doc.append(name_tipo_doc)\n",
    "                        col_membro.append(name_membro)\n",
    "\n",
    "                # pages_visited.append(next_pages[i].text)\n",
    "                    # next_pages[i].click()         \n",
    "                    next_page = actual_page.find_elements(By.XPATH, './/following-sibling::li')[-1]\n",
    "\n",
    "                    try:\n",
    "                        next_page.find_element(By.TAG_NAME, 'a') \n",
    "                    except Exception:\n",
    "                        # Não tem próxima pagina\n",
    "                        break\n",
    "\n",
    "                    next_page.click()   \n",
    "                    sleep(1)    \n",
    "\n",
    "                driver.find_element(By.CSS_SELECTOR, 'button.close.btn.btn-unstyled').click() #fechar modal\n",
    "\n",
    "    save_to_csv(name_comarca, col_comarca, col_orgao, col_membro, col_numero, col_distribuido_em, col_submetido_em, col_tipo, col_unidade)\n",
    "    comarcas_visitados.append(comarca.get_attribute('innerHTML'))"
   ]
  },
  {
   "cell_type": "code",
   "execution_count": 221,
   "metadata": {},
   "outputs": [
    {
     "data": {
      "text/plain": [
       "['',\n",
       " 'ANGRA DOS REIS',\n",
       " 'ARARUAMA',\n",
       " 'ARMAÇÃO DOS BÚZIOS',\n",
       " 'ARRAIAL DO CABO',\n",
       " 'BARRA DO PIRAÍ',\n",
       " 'BARRA MANSA',\n",
       " 'BELFORD ROXO',\n",
       " 'BOM JARDIM',\n",
       " 'BOM JESUS DO ITABAPOANA',\n",
       " 'CABO FRIO',\n",
       " 'CACHOEIRAS DE MACACU',\n",
       " 'CAMBUCI',\n",
       " 'CAMPOS DOS GOYTACAZES',\n",
       " 'CANTAGALO']"
      ]
     },
     "execution_count": 221,
     "metadata": {},
     "output_type": "execute_result"
    }
   ],
   "source": [
    "comarcas_visitados = []\n",
    "\n",
    "# manualmente terminei o CANTAGALO\n",
    "\n",
    "for i in range(0, 15):\n",
    "    comarcas_visitados.append(comarcas.find_elements(By.TAG_NAME, \"option\")[i].get_attribute('innerHTML'))\n",
    "\n",
    "comarcas_visitados"
   ]
  },
  {
   "cell_type": "code",
   "execution_count": 186,
   "metadata": {},
   "outputs": [],
   "source": [
    "scraping_values = {'Comarca': col_comarca, 'Orgão de execução': col_orgao, 'Tipo de documento': col_tipo, 'Membro': col_membro, 'Número': col_numero, 'Distribuído em': col_distribuido_em, 'Submetido em': col_submetido_em, 'Tipo': col_tipo, 'Unidade': col_unidade}\n",
    "# scraping_values"
   ]
  },
  {
   "cell_type": "code",
   "execution_count": null,
   "metadata": {},
   "outputs": [],
   "source": [
    "df = pd.DataFrame.from_dict(scraping_values) # columns=['Número', 'Distribuído em', 'Submetido em', 'Tipo', 'Unidade'])\n"
   ]
  },
  {
   "cell_type": "code",
   "execution_count": 139,
   "metadata": {},
   "outputs": [],
   "source": [
    "df.to_csv('teste.csv')"
   ]
  }
 ],
 "metadata": {
  "kernelspec": {
   "display_name": "Python 3",
   "language": "python",
   "name": "python3"
  },
  "language_info": {
   "codemirror_mode": {
    "name": "ipython",
    "version": 3
   },
   "file_extension": ".py",
   "mimetype": "text/x-python",
   "name": "python",
   "nbconvert_exporter": "python",
   "pygments_lexer": "ipython3",
   "version": "3.12.4"
  },
  "orig_nbformat": 4
 },
 "nbformat": 4,
 "nbformat_minor": 2
}
